{
 "cells": [
  {
   "cell_type": "markdown",
   "metadata": {
    "colab_type": "text",
    "id": "view-in-github"
   },
   "source": [
    "<a href=\"https://colab.research.google.com/github/scalabrinig/cdProjetoAplicadoIV/blob/master/projeto/cd_projeto_aplicado_IV_entrega_2.ipynb\" target=\"_parent\"><img src=\"https://colab.research.google.com/assets/colab-badge.svg\" alt=\"Open In Colab\"/></a>"
   ]
  },
  {
   "cell_type": "markdown",
   "metadata": {
    "id": "Ux5TSX--qOft"
   },
   "source": [
    "  <img src=\"https://raw.githubusercontent.com/scalabrinig/cdProjetoAplicadoIV/d093146488f56dfcf0ef286bcee8efe0e71b9c76/figuras/mackenzie_logo.jpg\" width=\"25%\" align=\"right\"/>\n",
    "\n",
    "# **PROJETO APLICADO IV - Ciência de Dados EaD - 2025/02**\n",
    "\n",
    "\n",
    "# **Entrega 2**\n",
    "\n",
    "---"
   ]
  },
  {
   "cell_type": "markdown",
   "metadata": {
    "id": "-UJ6Rj9jrJFM"
   },
   "source": [
    "# **Titulo do Projeto**: Acompanhamento de Reclamações Registradas na ANATEL\n",
    "\n",
    "---"
   ]
  },
  {
   "cell_type": "code",
   "execution_count": 7,
   "metadata": {
    "id": "yky3TEyXoGaY"
   },
   "outputs": [],
   "source": [
    "#@title **Identificação do Grupo e Opção do Projeto**\n",
    "\n",
    "#@markdown Integrantes do Grupo, nome completo em ordem alfabética (*informe: \\<nome\\>, \\<matrícula\\>*)\n",
    "Aluno1 = 'GUSTAVO MATHEUS CASSIMIRO CARNEIRO, 10415853' #@param {type:\"string\"}\n",
    "Aluno2 = 'MAIKI TRAJANO SOARES, 110415481' #@param {type:\"string\"}\n",
    "Aluno3 = 'VANESSA CORDEIRO GONÇALVES DE OLIVEIRA, 10415118' #@param {type:\"string\"}\n",
    "Aluno4 = 'MARIA FERNANDA SALLES VASCONCELLOS, 10424791' #@param {type:\"string\"}\n",
    "Aluno5 = 'NATHAN SAMPAIO SANTANA DOS SANTOS, 10408439' #@param {type:\"string\"}"
   ]
  },
  {
   "cell_type": "markdown",
   "metadata": {
    "id": "3_YOokpLogtZ"
   },
   "source": [
    "## Introdução  \n",
    "\n",
    "A área de conhecimento envolvida neste projeto é o **ODS 9 — Indústria, Inovação e Infraestrutura**, que orienta iniciativas voltadas à melhoria e modernização de sistemas produtivos e de serviços essenciais. Ao relacionar esse objetivo às telecomunicações, evidencia-se a necessidade de desenvolver mecanismos que possibilitem monitorar e fortalecer a infraestrutura de rede, estimulando a inovação e a qualidade dos serviços prestados à população.  \n",
    "\n",
    "O problema selecionado tem como foco a análise das manifestações registradas junto à **Agência Nacional de Telecomunicações (Anatel)** a respeito das operadoras que atuam no Brasil. A base de dados utilizada compreende informações sobre reclamações, denúncias, pedidos de informação e sugestões, organizadas em formato de série temporal.  \n",
    "\n",
    "O desafio consiste em transformar esse volume de dados em um produto analítico capaz de apoiar gestores públicos e privados na tomada de decisão, permitindo a antecipação de picos de reclamações, a identificação de padrões sazonais e a avaliação do impacto de intervenções em infraestrutura e inovação tecnológica.  \n",
    "\n",
    "Ao detalhar esse problema, observa-se que a ausência de monitoramento preditivo dificulta a resposta ágil a falhas sistêmicas e a elaboração de estratégias preventivas. Além disso, a falta de indicadores padronizados pode comprometer a capacidade de avaliar a efetividade de políticas públicas e investimentos em inovação.  \n",
    "\n",
    "Nesse sentido, o projeto propõe o desenvolvimento de uma solução analítica que, a partir de séries temporais, permitirá acompanhar a evolução das manifestações da população, detectar variações inesperadas e apoiar decisões estratégicas que contribuam para a melhoria da infraestrutura de telecomunicações no país.  \n",
    "\n",
    "---\n",
    "\n",
    "## Objetivo  \n",
    "\n",
    "O objetivo deste projeto é desenvolver um **produto analítico baseado em séries temporais** capaz de monitorar, analisar e prever a evolução das manifestações registradas pelos consumidores junto à Anatel em relação aos serviços de telecomunicações.  \n",
    "\n",
    "### Metas específicas  \n",
    "- Identificar padrões históricos das manifestações, considerando **sazonalidade, tendências e variações** por UF, operadora, serviço e tipo de registro.  \n",
    "- Construir um **pipeline de dados** para coleta, organização e tratamento das séries temporais de manifestações.  \n",
    "- Aplicar **métodos estatísticos e de modelagem preditiva** para gerar previsões de curto e médio prazo sobre o volume de registros.  \n",
    "- Implementar **técnicas de detecção de anomalias** que auxiliem na identificação de eventos inesperados ou problemas emergentes.  \n",
    "\n",
    "---\n",
    "\n",
    "## Motivações e Justificativa  \n",
    "\n",
    "A escolha do tema é motivada pela importância crescente das **telecomunicações** como um pilar essencial para a vida cotidiana, a competitividade das empresas e a inclusão digital da população.  \n",
    "\n",
    "Segundo dados da **Anatel (2023)**, foram registradas aproximadamente **3,2 milhões de reclamações** de consumidores contra operadoras de telecomunicações no Brasil em 2022, com destaque para serviços de banda larga fixa e telefonia móvel.  \n",
    "\n",
    "De acordo com a pesquisa **TIC Domicílios (Cetic.br, 2023)**, **83% dos domicílios brasileiros possuem acesso à internet**, reforçando a relevância dos serviços de telecomunicações para inclusão social e desenvolvimento econômico.  \n",
    "\n",
    "Nesse cenário, o registro de manifestações junto à Anatel constitui uma **fonte estratégica de dados** para compreender a qualidade dos serviços prestados e os principais pontos de insatisfação dos usuários.  \n",
    "\n",
    "A relevância do tema está no potencial de transformar essas informações em **inteligência prática** para gestores públicos e privados.  \n",
    "\n",
    "### Benefícios esperados da solução:  \n",
    "- Antecipar problemas, reduzindo impactos negativos à população.  \n",
    "- Detectar padrões sazonais e eventos inesperados, apoiando a **gestão preventiva**.  \n",
    "- Avaliar o impacto de **investimentos em infraestrutura e inovação tecnológica**.  \n",
    "- Gerar **indicadores confiáveis** para órgãos reguladores.  \n",
    "\n",
    "Além disso, os **atores envolvidos** incluem:  \n",
    "- **Consumidores:** com serviços mais estáveis e atendimento mais eficiente.  \n",
    "- **Operadoras:** com insights sobre falhas recorrentes e oportunidades de melhoria.  \n",
    "- **Órgãos reguladores:** com indicadores confiáveis para monitorar o setor.  \n",
    "- **Sociedade em geral:** favorecida pela inclusão digital e modernização da infraestrutura.  \n",
    "\n",
    "Por fim, a solução pode ser aplicada em:  \n",
    "- **Dashboards internos** das operadoras.  \n",
    "- **Painéis de acompanhamento** de órgãos reguladores.  \n",
    "- **Relatórios de gestão de qualidade**.  \n",
    "\n",
    "---\n",
    "\n",
    "## Descrição da Base de Dados  \n",
    "\n",
    "O conjunto de dados utilizado refere-se às solicitações registradas pelos consumidores junto à **Anatel**, incluindo reclamações, denúncias, pedidos de informação e sugestões.  \n",
    "\n",
    "A base está disponível no **Portal de Dados Abertos do Governo Federal**.  \n",
    "\n",
    "### Metadados principais  \n",
    "- **Título:** Solicitações Registradas na Anatel  \n",
    "- **Descrição:** Quantidade de registros de reclamações, denúncias, pedidos de informação e sugestões em relação às operadoras e à Anatel.  \n",
    "- **Etiquetas:** ANATEL, Banda Larga Fixa, Celular Pós-Pago, Celular Pré-Pago, Móvel Pessoal, SCM, Serviço Móvel, STFC, Telefone Fixo, Telefonia Móvel, TV por Assinatura, reclamação, denúncia, pedido de informação, sugestão  \n",
    "- **Autor:** Agência Nacional de Telecomunicações – Anatel  \n",
    "- **E-mail do autor:** rcts@anatel.gov.br  \n",
    "- **Mantenedor:** Gerência de Tratamento de Solicitações de Consumidores – RCTS  \n",
    "- **E-mail do mantenedor:** rcts@anatel.gov.br  \n",
    "- **Granularidade temporal:** mensal  \n",
    "\n",
    "### Período de coleta  \n",
    "- Janeiro de 2015 até dezembro de 2023  \n",
    "\n",
    "### Fonte  \n",
    "- Portal de Dados Abertos do Governo Federal:  \n",
    "  [https://dados.gov.br/dados/conjuntos-dados/solicitacoesregistradasnaanatel](https://dados.gov.br/dados/conjuntos-dados/solicitacoesregistradasnaanatel)  \n",
    "- Agência Nacional de Telecomunicações (Anatel)  "
   ]
  },
  {
   "cell_type": "markdown",
   "metadata": {
    "id": "jE9yYM31oqr3"
   },
   "source": [
    "# **Referencial Teórico** \n",
    "\n",
    "O estudo de **séries temporais** é amplamente aplicado em diferentes setores, incluindo economia, saúde e telecomunicações, permitindo a previsão de tendências e a detecção de padrões sazonais (Box, Jenkins & Reinsel, 2015).  \n",
    "\n",
    "No contexto das telecomunicações, essas técnicas são fundamentais para compreender o comportamento da demanda e o impacto de políticas de melhoria de infraestrutura.  \n",
    "\n",
    "Pesquisas recentes destacam o uso de modelos estatísticos como **ARIMA** e **Prophet** para previsão de séries temporais em bases públicas de reclamações (Silva & Andrade, 2021).  \n",
    "\n",
    "Outros estudos apontam o potencial de modelos baseados em **aprendizado de máquina**, como **LSTM (Long Short-Term Memory)**, que oferecem maior capacidade de capturar padrões não lineares e complexos (Zhang et al., 2020).  \n",
    "\n",
    "### Comparação de abordagens  \n",
    "- **Modelos estatísticos (ARIMA):**  \n",
    "  - Vantagens: simplicidade e interpretabilidade.  \n",
    "  - Limitações: desempenho inferior em cenários de alta variabilidade.  \n",
    "- **Modelos de redes neurais (LSTM):**  \n",
    "  - Vantagens: maior precisão em grandes volumes de dados.  \n",
    "  - Limitações: alta demanda computacional e menor transparência nos resultados.  \n",
    "\n",
    "No Brasil, a análise de dados da Anatel é utilizada por órgãos reguladores para acompanhar a evolução da qualidade do serviço e orientar políticas públicas (Anatel, 2023).  \n",
    "\n",
    "Iniciativas acadêmicas também reforçam que o uso de séries temporais aplicadas às reclamações pode apoiar a antecipação de falhas sistêmicas e otimizar o atendimento ao consumidor (Ferreira & Oliveira, 2021).  \n",
    "\n",
    "Este projeto se apoia em abordagens já consolidadas na literatura, ao mesmo tempo em que propõe um diferencial: a **integração de diferentes métodos de modelagem** em um pipeline analítico voltado especificamente para a base de manifestações da Anatel.  \n",
    "\n",
    "---"
   ]
  },
  {
   "cell_type": "markdown",
   "metadata": {
    "id": "Tax--lV7ov7G"
   },
   "source": [
    "# **Diagrama de Solução**\n",
    "\n",
    "O pipeline proposto para o desenvolvimento do produto analítico está estruturado em cinco etapas principais, desde a obtenção dos dados brutos até a apresentação dos insights em dashboards interativos.\n",
    "\n",
    "  <img src=\"https://raw.githubusercontent.com/Cassimirogustavo/Projeto-Aplicado-4/4527d561f9e1b226203a7171e896ec51ecdb24ab/figuras/pipeline.png\" width=\"100%\" align=\"center\"/>\n",
    "\n",
    "<br>Abaixo detalhamos cada uma dessas etapas:\n",
    "\n",
    "**1 - Coleta de Dados**<br>\n",
    "**Descrição:**<br>\n",
    "Coleta dos dados de reclamações registradas no portal de dados abertos da Anatel. Download do arquivo CSV atualizado.\n",
    "\n",
    "**Ferramentas:**\n",
    "- Python (_requests_, _pandas_)\n",
    "- Agendamento via _cron_ ou ferramenta de orchestration (ex: Apache Airflow)\n",
    "\n",
    "**Saída:**<br>\n",
    "Base histórica consolidada (desde 2015) e atualizações incrementais.\n",
    "<br>\n",
    "<br>\n",
    "\n",
    "**2 - Pré-processamento e Limpeza**<br>\n",
    "**Descrição:**<br>\n",
    "Nesta etapa, o dataset bruto passa por um rigoroso processo de limpeza e padronização para garantir sua qualidade e consistência. As tarefas incluem o tratamento de valores ausentes, a unificação de categorias (ex: nomes de operadoras), codificação de variáveis categóricas e a agregação dos dados na granularidade temporal desejada (mensal por UF, serviço, operadora).\n",
    "\n",
    "**Tarefas incluem:**\n",
    "- Tratamento de registros com UF não informada\n",
    "- Unificação de nomes de operadoras (ex: \"CLARO\", \"CLARO SA\" → \"CLARO\")\n",
    "- Criação de variáveis temporais (mês, ano, trimestre)\n",
    "- Agregação por quantidade de solicitações por mês, UF, serviço e operadora.\n",
    "\n",
    "**Saída:**<br>\n",
    "Dataset limpo e agregado, pronto para análise.\n",
    "\n",
    "**Ferramentas:**\n",
    "- pandas \n",
    "- numpy \n",
    "- matplotlib \n",
    "- seaborn \n",
    "- plotly\n",
    "- scikit-learn\n",
    "<br>\n",
    "<br>\n",
    "\n",
    "**3 - Análise Exploratória e Feature Engineering**<br>\n",
    "**Descrição:**<br>\n",
    "O objetivo desta fase é aprofundar o entendimento sobre os dados, identificando tendências, padrões de sazonalidade e correlações. Com base nesses insights, são criadas novas variáveis (_features_, ex: médias móveis, lags, indicadores de sazonalidade) que enriquecem o dataset e melhoram o desempenho dos modelos preditivos.\n",
    "\n",
    "**Tarefas:**\n",
    "- Visualização de séries temporais por operadora/UF\n",
    "- Identificação de sazonalidade (ex: aumento de reclamações no fim do ano)\n",
    "\n",
    "**Criação de variáveis derivadas:**\n",
    "- Lags (valores de períodos anteriores): _lag_1_, _lag_12_.\n",
    "- Médias móveis: _rolling_mean_3_, _rolling_mean_12_.\n",
    "- Indicadores sazonais e de eventos: _month_, _year_, _is_peak_.\n",
    "\n",
    "**Saída:**<br>\n",
    "Um dataset final enriquecido com features temporais relevantes para a modelagem.\n",
    "<br>\n",
    "<br>\n",
    "\n",
    "**4 - Modelagem Preditiva e Detecção de Anomalias**<br>\n",
    "**Descrição:**<br>\n",
    "Esta é a etapa central do projeto, onde são aplicados algoritmos para prever o volume futuro de reclamações e para detectar picos anômalos que possam indicar problemas sistêmicos. A abordagem combina modelos clássicos e de Machine Learning.\n",
    "\n",
    "**Abordagem dupla:**\n",
    "**a)** Previsão:\n",
    "- ARIMA/SARIMA: Para capturar tendências e sazonalidade lineares.\n",
    "- LSTM (Long Short-Term Memory): Para aprender padrões complexos e não lineares em séries temporais longas.\n",
    "\n",
    "**b)** Detecção de Anomalias:\n",
    "- Métodos estatísticos: Z-score e IQR para identificar outliers.\n",
    "- Modelos de Machine Learning: Isolation Forest ou Local Outlier Factor (LOF) para anomalias mais complexas.\n",
    "- Análise Contextual: As anomalias serão avaliadas considerando o contexto específico de cada UF e operadora.\n",
    "\n",
    "**Validação e Métricas:**<br>\n",
    "Será utilizada uma divisão temporal dos dados (ex: treino até 2021, teste para 2022-2023) e validação cruzada para séries temporais. As métricas de avaliação incluem MAE, RMSE e MAPE para previsão, e Precisão/Recall para a detecção de anomalias.\n",
    "\n",
    "**Ferramentas:**\n",
    "- statsmodels \n",
    "- pmdarima\n",
    "- tensorflow\n",
    "- scikit-learn \n",
    "- scipy\n",
    "<br>\n",
    "<br>\n",
    "\n",
    "**5 - Visualização e Interpretação**<br>\n",
    "**Descrição:**<br>\n",
    "A última etapa do pipeline consiste na criação de dashboards interativos para comunicar os resultados da análise de forma clara e acionável.\n",
    "\n",
    "**Ferramentas:**\n",
    "- Streamlit ou Power BI\n",
    "- Gráficos de séries temporais com previsões\n",
    "- Alertas visuais para anomalias detectadas\n",
    "\n",
    "**Exemplo de visualizações:**\n",
    "- Série histórica com intervalo de confiança da previsão\n",
    "- Heatmap de reclamações por UF/mês\n",
    "- Top 5 operadoras com mais reclamações no período\n",
    "<br>\n",
    "<br>\n",
    "\n",
    "# **Discussão da Solução**\n",
    "Este pipeline foi desenhado para ser reproduzível, escalável e orientado a negócio. A combinação de modelos clássicos (ARIMA) e modernos (LSTM) permite balancear interpretabilidade e precisão. A detecção de anomalias contextualizada por UF/operadora ajudará a identificar problemas localizados com agilidade.\n",
    "\n",
    "A escolha de ferramentas open source (Python, Streamlit) visa garantir acessibilidade e baixo custo de implantação, alinhando-se ao caráter extensionista do projeto.\n",
    "\n",
    "---"
   ]
  },
  {
   "cell_type": "markdown",
   "metadata": {},
   "source": [
    "# **EDA e Pré-processamento dos dados**\n",
    "\n",
    "<text>"
   ]
  },
  {
   "cell_type": "code",
   "execution_count": null,
   "metadata": {},
   "outputs": [],
   "source": []
  },
  {
   "cell_type": "markdown",
   "metadata": {},
   "source": [
    "# **Modelo Base**\n",
    "\n",
    "<text>"
   ]
  },
  {
   "cell_type": "code",
   "execution_count": null,
   "metadata": {},
   "outputs": [],
   "source": []
  },
  {
   "cell_type": "markdown",
   "metadata": {
    "id": "VG897rGOo1Rv"
   },
   "source": [
    "# **Cronograma**\n",
    "\n",
    "O cronograma abaixo detalha as principais atividades de desenvolvimento do projeto, alinhadas ao calendário da disciplina e às etapas descritas no pipeline da solução.\n",
    "\n",
    "| Período | Atividade | Entregáveis |\n",
    "|---------|-----------|-------------|\n",
    "| **10/09 – 20/09** | Pesquisa bibliográfica e revisão de trabalhos relacionados | Referencial teórico inicial |\n",
    "| **21/09 – 25/09** | Redação das seções de introdução, objetivos, motivação, descrição da base e pipeline | Documento preliminar (versão A2) |\n",
    "| **26/09** | **Entrega A2** | Referencial teórico, pipeline da solução e cronograma inicial |\n",
    "| **27/09 – 02/10** | Coleta de dados da Anatel, tratamento inicial (limpeza e padronização) | Base consolidada em CSV |\n",
    "| **03/10 – 06/10** | Análise exploratória inicial (EDA) e visualizações preliminares | Gráficos e relatório descritivo |\n",
    "| **07/10** | Implementação do modelo base (ARIMA ou Prophet) | Notebook com primeiros resultados |\n",
    "| **08/10** | **Entrega A3** | Notebook atualizado com EDA, pré-processamento e modelo base |\n",
    "| **09/10 – 20/10** | Refinamento do pré-processamento e feature engineering | Dataset enriquecido |\n",
    "| **21/10 – 05/11** | Treinamento de modelos avançados (LSTM, SARIMA) e comparação de desempenho | Relatório de avaliação de modelos |\n",
    "| **06/11 – 15/11** | Implementação de detecção de anomalias (Isolation Forest, Z-Score, LOF) | Notebook com resultados de anomalias |\n",
    "| **16/11 – 22/11** | Construção de dashboards interativos (Streamlit/Power BI) | Dashboard funcional |\n",
    "| **23/11 – 26/11** | Redação final do artigo, gravação do vídeo de apresentação e ajustes no GitHub | Artigo + vídeo |\n",
    "| **27/11** | Revisão coletiva e checagem da reprodutibilidade no GitHub | Versão final |\n",
    "| **28/11** | **Entrega A4 (final)** | GitHub completo, vídeo de apresentação, artigo e notebook final |\n"
   ]
  },
  {
   "cell_type": "markdown",
   "metadata": {
    "id": "KucOdKJLo3bG"
   },
   "source": [
    "# **Referências**\n",
    "\n",
    "- ANATEL. Relatórios de Reclamações de Consumidores. Agência Nacional de Telecomunicações, 2023. Disponível em: [https://www.gov.br/anatel](https://www.gov.br/anatel)  \n",
    "- BOX, G. E. P.; JENKINS, G. M.; REINSEL, G. C. *Time Series Analysis: Forecasting and Control*. 5. ed. Hoboken: Wiley, 2015.  \n",
    "- CETIC.BR. *TIC Domicílios 2023: Pesquisa sobre o uso das tecnologias de informação e comunicação nos domicílios brasileiros*. São Paulo: Comitê Gestor da Internet no Brasil, 2023.  \n",
    "- CHUNG, J. et al. *Empirical Evaluation of Gated Recurrent Neural Networks on Sequence Modeling*. arXiv preprint arXiv:1412.3555, 2014.  \n",
    "- FERREIRA, A. P.; OLIVEIRA, R. *Análise de Séries Temporais Aplicada a Reclamações em Serviços Públicos*. Revista Brasileira de Sistemas de Informação, v. 17, n. 2, p. 45–62, 2021.  \n",
    "- SILVA, M. R.; ANDRADE, P. C. *Previsão de Reclamações em Telecomunicações Utilizando Séries Temporais*. Anais do Congresso Brasileiro de Informática, p. 221–233, 2021.  \n",
    "- ZHANG, S. et al. *Time Series Forecasting Using LSTM Networks: A Case Study in Telecommunications*. Journal of Big Data, v. 7, n. 1, p. 1–15, 2020."
   ]
  },
  {
   "cell_type": "code",
   "execution_count": 8,
   "metadata": {
    "id": "Ad98o5dRo8Wq"
   },
   "outputs": [],
   "source": [
    "#@title **Avaliação**\n",
    "Referencial_teorico = 10 #@param {type:\"slider\", min:0, max:10, step:1}\n",
    "\n",
    "Pipeline_solucao = 10 #@param {type:\"slider\", min:0, max:10, step:1}\n",
    "\n",
    "Cronograma = 10 #@param {type:\"slider\", min:0, max:10, step:1}"
   ]
  },
  {
   "cell_type": "code",
   "execution_count": 9,
   "metadata": {
    "colab": {
     "base_uri": "https://localhost:8080/",
     "height": 261
    },
    "id": "8R_VW8bEpKvN",
    "outputId": "906ef325-9db0-4ef7-8453-156cdd899883"
   },
   "outputs": [
    {
     "name": "stdout",
     "output_type": "stream",
     "text": [
      "Nota final do trabalho 10.0\n",
      "\n"
     ]
    },
    {
     "data": {
      "text/html": [
       "<div>\n",
       "<style scoped>\n",
       "    .dataframe tbody tr th:only-of-type {\n",
       "        vertical-align: middle;\n",
       "    }\n",
       "\n",
       "    .dataframe tbody tr th {\n",
       "        vertical-align: top;\n",
       "    }\n",
       "\n",
       "    .dataframe thead th {\n",
       "        text-align: right;\n",
       "    }\n",
       "</style>\n",
       "<table border=\"1\" class=\"dataframe\">\n",
       "  <thead>\n",
       "    <tr style=\"text-align: right;\">\n",
       "      <th></th>\n",
       "      <th>nome</th>\n",
       "      <th>nota</th>\n",
       "    </tr>\n",
       "  </thead>\n",
       "  <tbody>\n",
       "    <tr>\n",
       "      <th>0</th>\n",
       "      <td>GUSTAVO MATHEUS CASSIMIRO CARNEIRO</td>\n",
       "      <td>10.0</td>\n",
       "    </tr>\n",
       "    <tr>\n",
       "      <th>1</th>\n",
       "      <td>MAIKI TRAJANO SOARES</td>\n",
       "      <td>10.0</td>\n",
       "    </tr>\n",
       "    <tr>\n",
       "      <th>2</th>\n",
       "      <td>VANESSA CORDEIRO GONÇALVES DE OLIVEIRA</td>\n",
       "      <td>10.0</td>\n",
       "    </tr>\n",
       "    <tr>\n",
       "      <th>3</th>\n",
       "      <td>MARIA FERNANDA SALLES VASCONCELLOS</td>\n",
       "      <td>10.0</td>\n",
       "    </tr>\n",
       "    <tr>\n",
       "      <th>4</th>\n",
       "      <td>NATHAN SAMPAIO SANTANA DOS SANTOS</td>\n",
       "      <td>10.0</td>\n",
       "    </tr>\n",
       "  </tbody>\n",
       "</table>\n",
       "</div>"
      ],
      "text/plain": [
       "                                     nome  nota\n",
       "0      GUSTAVO MATHEUS CASSIMIRO CARNEIRO  10.0\n",
       "1                    MAIKI TRAJANO SOARES  10.0\n",
       "2  VANESSA CORDEIRO GONÇALVES DE OLIVEIRA  10.0\n",
       "3      MARIA FERNANDA SALLES VASCONCELLOS  10.0\n",
       "4       NATHAN SAMPAIO SANTANA DOS SANTOS  10.0"
      ]
     },
     "metadata": {},
     "output_type": "display_data"
    }
   ],
   "source": [
    "#@title **Nota Final**\n",
    "nota = 0.45*Referencial_teorico + 0.45*Pipeline_solucao + 0.10*Cronograma\n",
    "\n",
    "print(f'Nota final do trabalho {nota :.1f}')\n",
    "\n",
    "import numpy as np\n",
    "import pandas as pd\n",
    "\n",
    "alunos = pd.DataFrame()\n",
    "\n",
    "lista_nome = []\n",
    "\n",
    "for i in range(1,6):\n",
    "  exec(\"if Aluno\" + str(i) + \" !='None':  lista = Aluno\" + str(i) + \".split(','); lista_nome.append(lista[0]);\")\n",
    "\n",
    "alunos['nome'] = lista_nome\n",
    "alunos['nota'] = np.round(nota,1)\n",
    "print()\n",
    "display(alunos)"
   ]
  }
 ],
 "metadata": {
  "colab": {
   "include_colab_link": true,
   "provenance": []
  },
  "kernelspec": {
   "display_name": "Python 3",
   "name": "python3"
  },
  "language_info": {
   "codemirror_mode": {
    "name": "ipython",
    "version": 3
   },
   "file_extension": ".py",
   "mimetype": "text/x-python",
   "name": "python",
   "nbconvert_exporter": "python",
   "pygments_lexer": "ipython3",
   "version": "3.14.0"
  }
 },
 "nbformat": 4,
 "nbformat_minor": 0
}
