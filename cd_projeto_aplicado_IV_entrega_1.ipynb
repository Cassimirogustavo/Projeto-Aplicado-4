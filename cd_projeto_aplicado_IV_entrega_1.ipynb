{
 "cells": [
  {
   "cell_type": "markdown",
   "metadata": {
    "colab_type": "text",
    "id": "view-in-github"
   },
   "source": [
    "<a href=\"https://colab.research.google.com/github/scalabrinig/cdProjetoAplicadoIV/blob/master/projeto/cd_projeto_aplicado_IV_entrega_1.ipynb\" target=\"_parent\"><img src=\"https://colab.research.google.com/assets/colab-badge.svg\" alt=\"Open In Colab\"/></a>"
   ]
  },
  {
   "cell_type": "markdown",
   "metadata": {
    "id": "Ux5TSX--qOft"
   },
   "source": [
    "  <img src=\"https://raw.githubusercontent.com/scalabrinig/cdProjetoAplicadoIV/d093146488f56dfcf0ef286bcee8efe0e71b9c76/figuras/mackenzie_logo.jpg\" width=\"25%\" align=\"right\"/>\n",
    "\n",
    "# **PROJETO APLICADO IV - Ciência de Dados EaD - 2025/02**\n",
    "\n",
    "\n",
    "# **Entrega 1**\n",
    "\n",
    "---"
   ]
  },
  {
   "cell_type": "markdown",
   "metadata": {
    "id": "-UJ6Rj9jrJFM"
   },
   "source": [
    "# **Titulo do Projeto**: Acompanhamento de Reclamações Registradas na ANATEL\n",
    "\n",
    "---"
   ]
  },
  {
   "cell_type": "code",
   "execution_count": 1,
   "metadata": {
    "id": "yky3TEyXoGaY"
   },
   "outputs": [],
   "source": [
    "#@title **Identificação do Grupo e Opção do Projeto**\n",
    "\n",
    "#@markdown Integrantes do Grupo, nome completo em ordem alfabética (*informe: \\<nome\\>, \\<matrícula\\>*)\n",
    "Aluno1 = 'GUSTAVO MATHEUS CASSIMIRO CARNEIRO, 10415853' #@param {type:\"string\"}\n",
    "Aluno2 = 'MAIKI TRAJANO SOARES, 110415481' #@param {type:\"string\"}\n",
    "Aluno3 = 'VANESSA CORDEIRO GONÇALVES DE OLIVEIRA, 10415118' #@param {type:\"string\"}\n"
    "Aluno4 = 'MARIA FERNANDA SALLES VASCONCELLOS, 10424791' #@param {type:\"string\"}\n"
    "Aluno5 = 'NATHAN SAMPAIO SANTANA DOS SANTOS, 10408439' #@param {type:\"string\"}\n"
   ]
  },
  {
   "cell_type": "markdown",
   "metadata": {
    "id": "3_YOokpLogtZ"
   },
   "source": [
    "# **Introdução**\n",
    "\n",
    "A área de conhecimento envolvida neste projeto é o ODS 9 — Indústria, Inovação e Infraestrutura, que orienta iniciativas voltadas à melhoria e modernização de sistemas produtivos e de serviços essenciais. Ao relacionar esse objetivo às telecomunicações, evidencia-se a necessidade de desenvolver mecanismos que possibilitem monitorar e fortalecer a infraestrutura de rede, estimulando a inovação e a qualidade dos serviços prestados à população.\n",
    "\n",
    "O problema selecionado tem como foco a análise das manifestações registradas junto à Agência Nacional de Telecomunicações (Anatel) a respeito das operadoras que atuam no Brasil. A base de dados utilizada compreende informações sobre reclamações, denúncias, pedidos de informação e sugestões, organizadas em formato de série temporal. O desafio consiste em transformar esse volume de dados em um produto analítico capaz de apoiar gestores públicos e privados na tomada de decisão, permitindo a antecipação de picos de reclamações, a identificação de padrões sazonais e a avaliação do impacto de intervenções em infraestrutura e inovação tecnológica.\n",
    "\n",
    "Ao detalhar esse problema, observa-se que a ausência de monitoramento preditivo dificulta a resposta ágil a falhas sistêmicas e a elaboração de estratégias preventivas. Além disso, a falta de indicadores padronizados pode comprometer a capacidade de avaliar a efetividade de políticas públicas e investimentos em inovação. Nesse sentido, o projeto propõe o desenvolvimento de uma solução analítica que, a partir de séries temporais, permitirá acompanhar a evolução das manifestações da população, detectar variações inesperadas e apoiar decisões estratégicas que contribuam para a melhoria da infraestrutura de telecomunicações no país.\n",
    "\n"
   ]
  },
  {
   "cell_type": "markdown",
   "metadata": {
    "id": "jE9yYM31oqr3"
   },
   "source": [
    "# **Motivações e justificativa**\n",
    "\n",
    "A escolha do tema é motivada pela importância crescente das telecomunicações como um pilar essencial para a vida cotidiana, a competitividade das empresas e a inclusão digital da população. Serviços como telefonia, internet e TV por assinatura estão diretamente associados ao acesso à informação, à comunicação e à participação social. Nesse cenário, o registro de manifestações junto à Anatel — reclamações, denúncias, pedidos de informação e sugestões — constitui uma fonte de dados estratégica para compreender a qualidade dos serviços prestados e os principais pontos de insatisfação dos usuários.\n",
    "\n",
    "A relevância do tema está no potencial de transformar essas informações em inteligência prática para gestores públicos e privados. Ao monitorar e analisar séries temporais de manifestações, é possível identificar padrões de comportamento, antecipar picos de demanda, localizar deficiências estruturais em determinadas regiões e avaliar a efetividade das ações corretivas das operadoras. Essa capacidade de interpretação fortalece tanto o processo regulatório quanto a capacidade de inovação e resposta das empresas.\n",
    "\n",
    "Do ponto de vista dos interesses envolvidos, diversos atores se beneficiam:\n",
    "\n",
    "- Consumidores, que passam a ter serviços mais estáveis e atendimento mais eficiente;\n",
    "\n",
    "- Operadoras, que obtêm insights sobre falhas recorrentes e oportunidades de melhoria em seus processos;\n",
    "\n",
    "- Órgãos reguladores, que dispõem de indicadores confiáveis para monitorar a evolução do setor;\n",
    "\n",
    "- Sociedade em geral, que é favorecida pela ampliação da inclusão digital e pela modernização da infraestrutura de comunicação.\n",
    "\n",
    "Entre os principais benefícios da solução, destacam-se a possibilidade de antecipar problemas, reduzindo impactos negativos à população; detectar padrões sazonais e eventos inesperados, apoiando a gestão preventiva; e avaliar o impacto de investimentos em infraestrutura e novas tecnologias, verificando sua contribuição para a redução de manifestações.\n",
    "\n",
    "Por fim, o potencial de aplicabilidade da solução é amplo: ela pode ser utilizada em dashboards internos das operadoras, em painéis de acompanhamento de órgãos reguladores ou em relatórios de gestão de qualidade. Assim, o projeto se justifica pela sua capacidade de transformar dados brutos em informações relevantes, fornecendo suporte direto à tomada de decisão e contribuindo para a melhoria contínua dos serviços de telecomunicações."
   ]
  },
  {
   "cell_type": "markdown",
   "metadata": {
    "id": "Tax--lV7ov7G"
   },
   "source": [
    "# **Objetivo**\n",
    "\n",
    "O objetivo deste projeto é desenvolver um produto analítico baseado em séries temporais capaz de monitorar, analisar e prever a evolução das manifestações registradas pelos consumidores junto à Anatel em relação aos serviços de telecomunicações. Pretende-se, com isso, identificar padrões históricos, prever tendências futuras e detectar possíveis anomalias que indiquem falhas de infraestrutura ou deficiências no atendimento das operadoras.\n",
    "\n",
    "As metas específicas incluem:\n",
    "\n",
    "1 - Identificar padrões históricos das manifestações, considerando sazonalidade, tendências e variações por UF, operadora, serviço e tipo de registro;\n",
    "\n",
    "2 - Construir um pipeline de dados para coleta, organização e tratamento das séries temporais de manifestações;\n",
    "\n",
    "3 - Aplicar métodos estatísticos e de modelagem preditiva para gerar previsões de curto e médio prazo sobre o volume de registros;\n",
    "\n",
    "4 - Implementar técnicas de detecção de anomalias que auxiliem na identificação de eventos inesperados ou problemas emergentes;\n",
    "\n"
   ]
  },
  {
   "cell_type": "markdown",
   "metadata": {
    "id": "VG897rGOo1Rv"
   },
   "source": [
    "# **Descrição da base de dados**\n",
    "\n",
    "O conjunto de dados utilizado neste projeto refere-se às solicitações registradas pelos consumidores junto à Anatel, incluindo reclamações, denúncias, pedidos de informação e sugestões em relação às operadoras de telecomunicações no Brasil. A base é disponibilizada oficialmente pela Agência Nacional de Telecomunicações (Anatel) e pode ser acessada pelo portal de dados abertos do governo.\n",
    "\n",
    "**Metadados principais**\n",
    "- Título: Solicitações Registradas na Anatel\n",
    "- Descrição: Quantidade de registros de reclamações, denúncias, pedidos de informação e sugestões em relação às operadoras e à Anatel.\n",
    "- Etiquetas: ANATEL, Banda Larga Fixa, Celular Pós-Pago, Celular Pré-Pago, Móvel Pessoal, SCM, Serviço Móvel, STFC, Telefone Fixo, Telefonia Móvel, TV por Assinatura, reclamação, denúncia, pedido de informação, sugestão\n",
    "- Autor: Agência Nacional de Telecomunicações – Anatel\n",
    "- E-mail do autor: rcts@anatel.gov.br\n",
    "- Mantenedor: Gerência de Tratamento de Solicitações de Consumidores – RCTS\n",
    "- E-mail do mantenedor: rcts@anatel.gov.br\n",
    "- Granularidade temporal: mensal\n",
    "\n",
    "**Glossário de termos e variáveis**\n",
    "- Ano: ano de registro da solicitação\n",
    "- Mês: mês de registro da solicitação\n",
    "- Canal de Entrada: canal utilizado pelo consumidor para registrar a solicitação (Fale Conosco, 1331, Aplicativo, etc.)\n",
    "- Condição: indica se a solicitação foi reaberta ou permanece como “Nova”\n",
    "- Data da Extração: data em que os dados foram extraídos da base do sistema Focus da Anatel\n",
    "- Grupo Econômico: grupo econômico da marca relacionada à solicitação (ex.: Claro e Net pertencem ao mesmo grupo, mas aparecem como marcas distintas)\n",
    "- Modalidade: indica o tema mais amplo ao qual a solicitação se refere\n",
    "- Motivos: detalhamento da natureza da demanda\n",
    "- ND: Não declarada\n",
    "- Prestadora: empresa autorizada ou concessionária de serviços de telecomunicações\n",
    "- Quantidade de Solicitações: número de registros de solicitações para cada combinação de atributos\n",
    "- SCM: Serviço de Comunicação Multimídia (banda larga fixa)\n",
    "- Serviço: tipo de serviço relacionado à solicitação (Telefone Fixo, Banda Larga Fixa, TV por Assinatura, Celular Pré-Pago, Celular Pós-Pago)\n",
    "- Solicitação Nova: solicitação que não foi reaberta pelo consumidor após resposta\n",
    "- Solicitação Reaberta: solicitação que foi reaberta pelo consumidor devido à insatisfação com a resposta\n",
    "- STFC: Serviço Telefônico Fixo Comutado (telefonia fixa)\n",
    "- UF: Unidade da Federação – Estados, Territórios e Distrito Federal\n",
    "\n",
    "**Estrutura e organização**\n",
    "\n",
    "A base é organizada em formato tabular, permitindo análise por diferentes dimensões, como UF, prestadora, serviço, tipo de manifestação e período (ano/mês). A granularidade mensal facilita o estudo de tendências, padrões sazonais e variações de volume de solicitações ao longo do tempo.\n",
    "\n",
    "**Período de coleta**\n",
    "\n",
    "Os dados abrangem múltiplos anos, permitindo análises históricas consistentes e a aplicação de técnicas de séries temporais para previsão e detecção de anomalias.\n",
    "\n",
    "**Fonte**\n",
    "\n",
    "- Portal de Dados Abertos do Governo Federal: https://dados.gov.br/dados/conjuntos-dados/solicitacoesregistradasnaanatel\n",
    "- Agência Nacional de Telecomunicações (Anatel) – responsável pela coleta e consolidação dos registros"
   ]
  },
  {
   "cell_type": "markdown",
   "metadata": {
    "id": "KucOdKJLo3bG"
   },
   "source": [
    "# **Referências**\n",
    "\n",
    "AGÊNCIA NACIONAL DE TELECOMUNICAÇÕES – ANATEL. Sobre a Anatel. Disponível em: https://www.gov.br/anatel/pt-br/acesso-a-informacao/sobre-a-anatel. Acesso em: 26 ago. 2025."
   ]
  },
  {
   "cell_type": "code",
   "execution_count": 2,
   "metadata": {
    "id": "Ad98o5dRo8Wq"
   },
   "outputs": [],
   "source": [
    "#@title **Avaliação**\n",
    "Introducao = 10 #@param {type:\"slider\", min:0, max:10, step:1}\n",
    "\n",
    "Fonte_dos_dados = 10 #@param {type:\"slider\", min:0, max:10, step:1}\n",
    "\n",
    "Solucao_proposta = 10 #@param {type:\"slider\", min:0, max:10, step:1}\n",
    "\n",
    "Referencias = 10 #@param {type:\"slider\", min:0, max:10, step:1}"
   ]
  },
  {
   "cell_type": "code",
   "execution_count": 3,
   "metadata": {
    "colab": {
     "base_uri": "https://localhost:8080/",
     "height": 178
    },
    "id": "8R_VW8bEpKvN",
    "outputId": "0b59fd57-1881-46d9-8671-d6355e5ee933"
   },
   "outputs": [
    {
     "name": "stdout",
     "output_type": "stream",
     "text": [
      "Nota da entrega 10.0\n",
      "\n"
     ]
    },
    {
     "data": {
      "text/html": [
       "<div>\n",
       "<style scoped>\n",
       "    .dataframe tbody tr th:only-of-type {\n",
       "        vertical-align: middle;\n",
       "    }\n",
       "\n",
       "    .dataframe tbody tr th {\n",
       "        vertical-align: top;\n",
       "    }\n",
       "\n",
       "    .dataframe thead th {\n",
       "        text-align: right;\n",
       "    }\n",
       "</style>\n",
       "<table border=\"1\" class=\"dataframe\">\n",
       "  <thead>\n",
       "    <tr style=\"text-align: right;\">\n",
       "      <th></th>\n",
       "      <th>nome</th>\n",
       "      <th>nota</th>\n",
       "    </tr>\n",
       "  </thead>\n",
       "  <tbody>\n",
       "    <tr>\n",
       "      <th>0</th>\n",
       "      <td>GUSTAVO MATHEUS CASSIMIRO CARNEIRO</td>\n",
       "      <td>10.0</td>\n",
       "    </tr>\n",
       "    <tr>\n",
       "      <th>1</th>\n",
       "      <td>MAIKI TRAJANO SOARES</td>\n",
       "      <td>10.0</td>\n",
       "    </tr>\n",
       "    <tr>\n",
       "      <th>2</th>\n",
       "      <td>VANESSA CORDEIRO GONÇALVES DE OLIVEIRA</td>\n",
       "      <td>10.0</td>\n",
       "    </tr>\n",
       "  </tbody>\n",
       "</table>\n",
       "</div>"
      ],
      "text/plain": [
       "                                     nome  nota\n",
       "0      GUSTAVO MATHEUS CASSIMIRO CARNEIRO  10.0\n",
       "1                    MAIKI TRAJANO SOARES  10.0\n",
       "2  VANESSA CORDEIRO GONÇALVES DE OLIVEIRA  10.0"
      ]
     },
     "metadata": {},
     "output_type": "display_data"
    }
   ],
   "source": [
    "#@title **Nota Final**\n",
    "nota = 0.30*Introducao + 0.30*Fonte_dos_dados + 0.30*Solucao_proposta + 0.10*Referencias\n",
    "\n",
    "print(f'Nota da entrega {nota :.1f}')\n",
    "\n",
    "import numpy as np\n",
    "import pandas as pd\n",
    "\n",
    "alunos = pd.DataFrame()\n",
    "\n",
    "lista_nome = []\n",
    "\n",
    "for i in range(1,4):\n",
    "  exec(\"if Aluno\" + str(i) + \" !='None':  lista = Aluno\" + str(i) + \".split(','); lista_nome.append(lista[0]);\")\n",
    "\n",
    "alunos['nome'] = lista_nome\n",
    "alunos['nota'] = np.round(nota,1)\n",
    "print()\n",
    "display(alunos)"
   ]
  }
 ],
 "metadata": {
  "colab": {
   "include_colab_link": true,
   "provenance": []
  },
  "kernelspec": {
   "display_name": "Python 3",
   "name": "python3"
  },
  "language_info": {
   "codemirror_mode": {
    "name": "ipython",
    "version": 3
   },
   "file_extension": ".py",
   "mimetype": "text/x-python",
   "name": "python",
   "nbconvert_exporter": "python",
   "pygments_lexer": "ipython3",
   "version": "3.9.7"
  }
 },
 "nbformat": 4,
 "nbformat_minor": 0
}
